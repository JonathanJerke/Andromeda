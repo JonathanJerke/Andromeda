{
 "cells": [
  {
   "cell_type": "code",
   "execution_count": 1,
   "id": "angry-peace",
   "metadata": {},
   "outputs": [],
   "source": [
    "import os\n",
    "import numpy\n",
    "import pandas as pd\n",
    "import subprocess\n",
    "from andromedaPy import galaxy\n",
    "if os.getenv('LAUNCH')==None :\n",
    "    print('warning,  bootup Jupyter after ignition.sh')\n",
    "import h5py \n",
    "import matplotlib.pyplot as plt\n",
    "from scipy import linalg"
   ]
  },
  {
   "cell_type": "code",
   "execution_count": 2,
   "id": "minus-involvement",
   "metadata": {},
   "outputs": [],
   "source": [
    "##BEGINNINGS of a control panel in Jupyter"
   ]
  },
  {
   "cell_type": "code",
   "execution_count": 3,
   "id": "independent-thunder",
   "metadata": {},
   "outputs": [],
   "source": [
    "##directory of file\n",
    "op = '2B3D/1'"
   ]
  },
  {
   "cell_type": "code",
   "execution_count": 4,
   "id": "comparative-procurement",
   "metadata": {},
   "outputs": [],
   "source": [
    "launch =  '/home/user/Andromeda/launchPad/'\n",
    "bash = launch + '/../bash/'\n",
    "os.chdir(launch+op)"
   ]
  },
  {
   "cell_type": "code",
   "execution_count": 5,
   "id": "introductory-generator",
   "metadata": {},
   "outputs": [
    {
     "name": "stdout",
     "output_type": "stream",
     "text": [
      "3 1\n"
     ]
    }
   ],
   "source": [
    "##make the foundation in jupyter.\n",
    "\n",
    "\n",
    "g = galaxy()\n",
    "g.read_record('found/found').fieldInputs(OpIndex = -1)\n",
    "g.i()\n",
    "dims = g.dims()\n",
    "\n",
    "D, B = (numpy.shape(dims))\n",
    "print(D,B)\n",
    "x = 2\n",
    "n = 1.5\n",
    "\n",
    "l = pd.DataFrame()\n",
    "for ll in range(numpy.power(x,D*B)):\n",
    "    row = pd.DataFrame(index = [ll])\n",
    "    mm = 1\n",
    "    for d in range(D):\n",
    "        for b in range(B):\n",
    "            row[str(d)+str(b+1)+'m'] = int(ll/mm)%x\n",
    "            row[str(d)+str(b+1)+'n'] = n\n",
    "            mm *= x\n",
    "    l = pd.concat([l,row])\n",
    "    \n",
    "l.to_csv('foundation.csv')"
   ]
  },
  {
   "cell_type": "code",
   "execution_count": 6,
   "id": "falling-progress",
   "metadata": {},
   "outputs": [
    {
     "data": {
      "text/plain": [
       "(21, 0.2)"
      ]
     },
     "execution_count": 6,
     "metadata": {},
     "output_type": "execute_result"
    }
   ],
   "source": [
    "##read some parameters\n",
    "N = g.comps()[0][0]\n",
    "lattice = g.dims()[0][0]['lattice']\n",
    "N,lattice"
   ]
  },
  {
   "cell_type": "code",
   "execution_count": 7,
   "id": "sustained-congo",
   "metadata": {},
   "outputs": [
    {
     "name": "stdout",
     "output_type": "stream",
     "text": [
      "[0.  1.5 0.  1.5 0.  1.5]\n",
      "[1.  1.5 0.  1.5 0.  1.5]\n",
      "[0.  1.5 1.  1.5 0.  1.5]\n",
      "[1.  1.5 1.  1.5 0.  1.5]\n",
      "[0.  1.5 0.  1.5 1.  1.5]\n",
      "[1.  1.5 0.  1.5 1.  1.5]\n",
      "[0.  1.5 1.  1.5 1.  1.5]\n",
      "[1.  1.5 1.  1.5 1.  1.5]\n"
     ]
    }
   ],
   "source": [
    "##load up to SG's\n",
    "l = pd.read_csv('foundation.csv').drop('Unnamed: 0',axis=1)\n",
    "\n",
    "if True:\n",
    "    reset = 1\n",
    "    index = 0\n",
    "    for i in l.index:\n",
    "        g.setCurrent(Current = 0)\n",
    "        print((l.loc[i]).values)\n",
    "        g.SG(gammaPy = numpy.reshape(l.loc[i].values,(D,B,2)))\n",
    "        g.to_file(reset = reset, index = index )\n",
    "        index += 1\n",
    "        reset = 0\n"
   ]
  },
  {
   "cell_type": "code",
   "execution_count": 8,
   "id": "acceptable-college",
   "metadata": {},
   "outputs": [],
   "source": [
    "gto = [D*[B*[2,0.1/lattice,0]]]"
   ]
  },
  {
   "cell_type": "code",
   "execution_count": 9,
   "id": "chinese-bacon",
   "metadata": {},
   "outputs": [],
   "source": [
    "if True:\n",
    "    for i in range(len(gto)):\n",
    "        \n",
    "        g.setCurrent(Current = 0)\n",
    "        g.GTO(gammaPy = numpy.reshape(gto,(D,B,3)))\n",
    "        g.to_file(reset = reset, index = index )\n",
    "        index += 1\n",
    "        reset = 0\n",
    "\n"
   ]
  },
  {
   "cell_type": "code",
   "execution_count": null,
   "id": "powered-authorization",
   "metadata": {},
   "outputs": [],
   "source": []
  },
  {
   "cell_type": "code",
   "execution_count": 10,
   "id": "dominant-feelings",
   "metadata": {},
   "outputs": [
    {
     "data": {
      "image/png": "[encoded data removed]",
      "text/plain": [
       "<Figure size 432x288 with 1 Axes>"
      ]
     },
     "metadata": {
      "needs_background": "light"
     },
     "output_type": "display_data"
    }
   ],
   "source": [
    "if B == 1:\n",
    "    plt.plot(numpy.reshape(list(h5py.File('found/found.3.0_mac','r')['  0-0'])[:N],(N)))\n",
    "else:\n",
    "    plt.contour(numpy.reshape(list(h5py.File('found/found.4.0_mac','r')['  0-0'])[:N*N],(N,N)))"
   ]
  },
  {
   "cell_type": "code",
   "execution_count": null,
   "id": "available-enemy",
   "metadata": {},
   "outputs": [],
   "source": []
  },
  {
   "cell_type": "code",
   "execution_count": 11,
   "id": "significant-attachment",
   "metadata": {},
   "outputs": [
    {
     "data": {
      "text/plain": [
       "0"
      ]
     },
     "execution_count": 11,
     "metadata": {},
     "output_type": "execute_result"
    }
   ],
   "source": [
    "subprocess.call(['bash',bash+'launcher.sh', 'found/C','1/B'])"
   ]
  },
  {
   "cell_type": "code",
   "execution_count": 12,
   "id": "acknowledged-committee",
   "metadata": {},
   "outputs": [
    {
     "data": {
      "text/plain": [
       "array([4.86685558e+03+0.j, 5.07574552e+03+0.j, 5.52381201e+03+0.j,\n",
       "       5.82257873e+03+0.j, 5.90393285e+03+0.j, 5.92095676e+03+0.j,\n",
       "       6.72667855e+03+0.j, 2.29775310e+04+0.j, 1.19628233e+09+0.j])"
      ]
     },
     "execution_count": 12,
     "metadata": {},
     "output_type": "execute_result"
    }
   ],
   "source": [
    "index = index\n",
    "di= 'found'\n",
    "h = numpy.zeros((index,index))\n",
    "s = numpy.zeros((index,index))\n",
    "for i in g.terms():\n",
    "    h += (numpy.reshape(list(h5py.File(di+'/C.' + str(i+1)+'.riz.2.0_mac','r')['  0-0'])[:index*index],(index,index)))\n",
    "s = (numpy.reshape(list(h5py.File(di+'/C.' + str(i+1)+'.riz.1.0_mac','r')['  0-0'])[:index*index],(index,index)))\n",
    "numpy.sort(linalg.eigvals(h,s))"
   ]
  },
  {
   "cell_type": "code",
   "execution_count": 13,
   "id": "stupid-iraqi",
   "metadata": {},
   "outputs": [
    {
     "data": {
      "text/plain": [
       "0"
      ]
     },
     "execution_count": 13,
     "metadata": {},
     "output_type": "execute_result"
    }
   ],
   "source": [
    "subprocess.call(['bash',bash+'launcher.sh', '1/B'])"
   ]
  },
  {
   "cell_type": "code",
   "execution_count": 14,
   "id": "wireless-housing",
   "metadata": {},
   "outputs": [
    {
     "data": {
      "text/plain": [
       "array([3.91453123e+03+0.j, 4.53492720e+03+0.j, 4.67149591e+03+0.j,\n",
       "       1.88826509e+07+0.j, 9.78737101e+08+0.j, 8.32975695e+09+0.j])"
      ]
     },
     "execution_count": 14,
     "metadata": {},
     "output_type": "execute_result"
    }
   ],
   "source": [
    "index = 6\n",
    "di= '12'\n",
    "h = numpy.zeros((index,index))\n",
    "s = numpy.zeros((index,index))\n",
    "for i in g.terms():\n",
    "    h += (numpy.reshape(list(h5py.File(di+'/C.' + str(i+1)+'.riz.2.0_mac','r')['  0-0']),(index,index)))\n",
    "s = (numpy.reshape(list(h5py.File(di+'/C.' + str(i+1)+'.riz.1.0_mac','r')['  0-0']),(index,index)))\n",
    "\n",
    "numpy.sort(linalg.eigvals(h,s))"
   ]
  },
  {
   "cell_type": "code",
   "execution_count": null,
   "id": "alone-banner",
   "metadata": {},
   "outputs": [],
   "source": []
  },
  {
   "cell_type": "code",
   "execution_count": null,
   "id": "spread-official",
   "metadata": {},
   "outputs": [],
   "source": []
  },
  {
   "cell_type": "code",
   "execution_count": 15,
   "id": "willing-findings",
   "metadata": {},
   "outputs": [
    {
     "data": {
      "image/png": "[encoded data removed]",
      "text/plain": [
       "<Figure size 432x288 with 1 Axes>"
      ]
     },
     "metadata": {
      "needs_background": "light"
     },
     "output_type": "display_data"
    }
   ],
   "source": [
    "if B == 2:\n",
    "    plt.contour(numpy.reshape(list(h5py.File('1/D.kry.1.1.0_mac','r')['  0-0'])[:N*N],(N,N)))\n",
    "elif B == 1:\n",
    "    plt.plot(numpy.reshape(list(h5py.File('12/D.kry.1.1.0_mac','r')['  0-0'])[:N],(N)))"
   ]
  },
  {
   "cell_type": "code",
   "execution_count": null,
   "id": "returning-action",
   "metadata": {},
   "outputs": [],
   "source": []
  },
  {
   "cell_type": "code",
   "execution_count": 15,
   "id": "damaged-lexington",
   "metadata": {},
   "outputs": [],
   "source": [
    "def inspectState(handle, state):\n",
    "    v = galaxy()\n",
    "    v.read_record(handle+'/D.kry.'+str(state)).fieldInputs(OpIndex = -1)\n",
    "    v.i()\n",
    "    v.read_file(handle+'/D.kry.'+str(state)+'.vector')\n",
    "    v.expectation()\n",
    "    del v"
   ]
  },
  {
   "cell_type": "code",
   "execution_count": null,
   "id": "little-alexander",
   "metadata": {},
   "outputs": [],
   "source": [
    "inspectState('12',1)"
   ]
  },
  {
   "cell_type": "code",
   "execution_count": null,
   "id": "vital-relay",
   "metadata": {},
   "outputs": [],
   "source": []
  }
 ],
 "metadata": {
  "kernelspec": {
   "display_name": "Python 3",
   "language": "python",
   "name": "python3"
  },
  "language_info": {
   "codemirror_mode": {
    "name": "ipython",
    "version": 3
   },
   "file_extension": ".py",
   "mimetype": "text/x-python",
   "name": "python",
   "nbconvert_exporter": "python",
   "pygments_lexer": "ipython3",
   "version": "3.8.5"
  }
 },
 "nbformat": 4,
 "nbformat_minor": 5
}
