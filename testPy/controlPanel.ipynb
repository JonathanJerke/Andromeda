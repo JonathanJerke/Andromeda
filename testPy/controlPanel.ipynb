{
 "cells": [
  {
   "cell_type": "code",
   "execution_count": 1,
   "id": "angry-peace",
   "metadata": {},
   "outputs": [],
   "source": [
    "import os\n",
    "import numpy\n",
    "import pandas as pd\n",
    "import subprocess\n",
    "from andromedaPy import galaxy\n",
    "if os.getenv('LAUNCH')==None :\n",
    "    print('warning,  bootup Jupyter after ignition.sh')\n",
    "import h5py \n",
    "import matplotlib.pyplot as plt\n",
    "from scipy import linalg"
   ]
  },
  {
   "cell_type": "code",
   "execution_count": 2,
   "id": "constant-exchange",
   "metadata": {},
   "outputs": [],
   "source": [
    "op = '2B3D/1'"
   ]
  },
  {
   "cell_type": "code",
   "execution_count": 3,
   "id": "comparative-procurement",
   "metadata": {},
   "outputs": [],
   "source": [
    "launch =  '/home/user/Andromeda/launchPad/'\n",
    "bash = launch + '/../bash/'\n",
    "os.chdir(launch+op)"
   ]
  },
  {
   "cell_type": "code",
   "execution_count": 4,
   "id": "introductory-generator",
   "metadata": {},
   "outputs": [
    {
     "name": "stdout",
     "output_type": "stream",
     "text": [
      "3 1\n"
     ]
    }
   ],
   "source": [
    "g = galaxy()\n",
    "g.read_record('found/found').fieldInputs(OpIndex = -1)\n",
    "g.i()\n",
    "dims = g.dims()\n",
    "\n",
    "D, B = (numpy.shape(dims))\n",
    "print(D,B)\n",
    "x = 2\n",
    "n = 1.5\n",
    "\n",
    "l = pd.DataFrame()\n",
    "for ll in range(numpy.power(x,D*B)):\n",
    "    row = pd.DataFrame(index = [ll])\n",
    "    mm = 1\n",
    "    for d in range(D):\n",
    "        for b in range(B):\n",
    "            row[str(d)+str(b+1)+'m'] = int(ll/mm)%x\n",
    "            row[str(d)+str(b+1)+'n'] = n\n",
    "            mm *= x\n",
    "    l = pd.concat([l,row])\n",
    "    \n",
    "l.to_csv('foundation.csv')"
   ]
  },
  {
   "cell_type": "code",
   "execution_count": 5,
   "id": "sapphire-rider",
   "metadata": {},
   "outputs": [
    {
     "data": {
      "text/plain": [
       "(21, 0.2)"
      ]
     },
     "execution_count": 5,
     "metadata": {},
     "output_type": "execute_result"
    }
   ],
   "source": [
    "N = g.comps()[0][0]\n",
    "lattice = g.dims()[0][0]['lattice']\n",
    "N,lattice"
   ]
  },
  {
   "cell_type": "code",
   "execution_count": 6,
   "id": "sustained-congo",
   "metadata": {},
   "outputs": [
    {
     "name": "stdout",
     "output_type": "stream",
     "text": [
      "[0.  1.5 0.  1.5 0.  1.5]\n",
      "[1.  1.5 0.  1.5 0.  1.5]\n",
      "[0.  1.5 1.  1.5 0.  1.5]\n",
      "[1.  1.5 1.  1.5 0.  1.5]\n",
      "[0.  1.5 0.  1.5 1.  1.5]\n",
      "[1.  1.5 0.  1.5 1.  1.5]\n",
      "[0.  1.5 1.  1.5 1.  1.5]\n",
      "[1.  1.5 1.  1.5 1.  1.5]\n"
     ]
    }
   ],
   "source": [
    "l = pd.read_csv('foundation.csv').drop('Unnamed: 0',axis=1)\n",
    "\n",
    "if True:\n",
    "    reset = 1\n",
    "    index = 0\n",
    "    for i in l.index:\n",
    "        g.setCurrent(Current = 0)\n",
    "        print((l.loc[i]).values)\n",
    "        g.SG(gammaPy = numpy.reshape(l.loc[i].values,(D,B,2)))\n",
    "        g.to_file(reset = reset, index = index )\n",
    "        index += 1\n",
    "        reset = 0\n"
   ]
  },
  {
   "cell_type": "code",
   "execution_count": 9,
   "id": "freelance-globe",
   "metadata": {},
   "outputs": [],
   "source": [
    "gto = [[[2,0.1/lattice,0],[1,0.1/lattice,0],[1,0.1/lattice,0]]]"
   ]
  },
  {
   "cell_type": "code",
   "execution_count": 10,
   "id": "ignored-variable",
   "metadata": {},
   "outputs": [],
   "source": [
    "if True:\n",
    "    for i in range(len(gto)):\n",
    "        \n",
    "        g.setCurrent(Current = 0)\n",
    "        g.GTO(gammaPy = numpy.reshape(gto,(D,B,3)))\n",
    "        g.to_file(reset = reset, index = index )\n",
    "        index += 1\n",
    "        reset = 0\n",
    "\n"
   ]
  },
  {
   "cell_type": "code",
   "execution_count": null,
   "id": "egyptian-slovenia",
   "metadata": {},
   "outputs": [],
   "source": []
  },
  {
   "cell_type": "code",
   "execution_count": 12,
   "id": "dominant-feelings",
   "metadata": {},
   "outputs": [
    {
     "data": {
      "image/png": "[encoded data removed]",
      "text/plain": [
       "<Figure size 432x288 with 1 Axes>"
      ]
     },
     "metadata": {
      "needs_background": "light"
     },
     "output_type": "display_data"
    }
   ],
   "source": [
    "if B == 1:\n",
    "    plt.plot(numpy.reshape(list(h5py.File('found/found.3.0_mac','r')['  0-0'])[:N],(N)))\n",
    "else:\n",
    "    plt.contour(numpy.reshape(list(h5py.File('found/found.4.0_mac','r')['  0-0'])[:N*N],(N,N)))"
   ]
  },
  {
   "cell_type": "code",
   "execution_count": null,
   "id": "alpha-douglas",
   "metadata": {},
   "outputs": [],
   "source": []
  },
  {
   "cell_type": "code",
   "execution_count": 13,
   "id": "significant-attachment",
   "metadata": {},
   "outputs": [
    {
     "data": {
      "text/plain": [
       "0"
      ]
     },
     "execution_count": 13,
     "metadata": {},
     "output_type": "execute_result"
    }
   ],
   "source": [
    "subprocess.call(['bash',bash+'launcher.sh', 'found/C','1/B'])"
   ]
  },
  {
   "cell_type": "code",
   "execution_count": 11,
   "id": "acknowledged-committee",
   "metadata": {},
   "outputs": [
    {
     "data": {
      "text/plain": [
       "array([   2984.82825924+0.j,    3668.37058136+0.j,    4396.45588782+0.j,\n",
       "          5340.90012177+0.j, 2317013.63366363+0.j])"
      ]
     },
     "execution_count": 11,
     "metadata": {},
     "output_type": "execute_result"
    }
   ],
   "source": [
    "index = index\n",
    "di= 'found'\n",
    "h = numpy.zeros((index,index))\n",
    "s = numpy.zeros((index,index))\n",
    "for i in g.terms():\n",
    "    h += (numpy.reshape(list(h5py.File(di+'/C.' + str(i+1)+'.riz.2.0_mac','r')['  0-0'])[:index*index],(index,index)))\n",
    "s = (numpy.reshape(list(h5py.File(di+'/C.' + str(i+1)+'.riz.1.0_mac','r')['  0-0'])[:index*index],(index,index)))\n",
    "numpy.sort(linalg.eigvals(h,s))"
   ]
  },
  {
   "cell_type": "code",
   "execution_count": null,
   "id": "stupid-iraqi",
   "metadata": {},
   "outputs": [],
   "source": [
    "subprocess.call(['bash',bash+'launcher.sh', '1/B'])"
   ]
  },
  {
   "cell_type": "code",
   "execution_count": 15,
   "id": "wireless-housing",
   "metadata": {},
   "outputs": [
    {
     "data": {
      "text/plain": [
       "array([8.78107855e+02+0.j, 1.97428425e+03+0.j, 2.63906136e+03+0.j,\n",
       "       1.05325534e+04+0.j, 8.42219309e+05+0.j, 7.86369258e+06+0.j])"
      ]
     },
     "execution_count": 15,
     "metadata": {},
     "output_type": "execute_result"
    }
   ],
   "source": [
    "index = 6\n",
    "di= '12'\n",
    "h = numpy.zeros((index,index))\n",
    "s = numpy.zeros((index,index))\n",
    "for i in g.terms():\n",
    "    h += (numpy.reshape(list(h5py.File(di+'/C.' + str(i+1)+'.riz.2.0_mac','r')['  0-0']),(index,index)))\n",
    "s = (numpy.reshape(list(h5py.File(di+'/C.' + str(i+1)+'.riz.1.0_mac','r')['  0-0']),(index,index)))\n",
    "\n",
    "numpy.sort(linalg.eigvals(h,s))"
   ]
  },
  {
   "cell_type": "code",
   "execution_count": 16,
   "id": "superb-green",
   "metadata": {},
   "outputs": [
    {
     "data": {
      "image/png": "[encoded data removed]",
      "text/plain": [
       "<Figure size 432x288 with 1 Axes>"
      ]
     },
     "metadata": {
      "needs_background": "light"
     },
     "output_type": "display_data"
    }
   ],
   "source": [
    "if B == 2:\n",
    "    plt.contour(numpy.reshape(list(h5py.File('1/D.kry.1.1.0_mac','r')['  0-0'])[:N*N],(N,N)))\n",
    "elif B == 1:\n",
    "    plt.plot(numpy.reshape(list(h5py.File('12/D.kry.1.1.0_mac','r')['  0-0'])[:N],(N)))"
   ]
  },
  {
   "cell_type": "code",
   "execution_count": null,
   "id": "recreational-playlist",
   "metadata": {},
   "outputs": [],
   "source": []
  },
  {
   "cell_type": "code",
   "execution_count": null,
   "id": "hairy-vision",
   "metadata": {},
   "outputs": [],
   "source": []
  },
  {
   "cell_type": "code",
   "execution_count": 4,
   "id": "satellite-sense",
   "metadata": {},
   "outputs": [],
   "source": [
    "def inspectState(handle, state):\n",
    "    v = galaxy()\n",
    "    v.read_record(handle+'/D.kry.'+str(state)).fieldInputs(OpIndex = -1)\n",
    "    v.i()\n",
    "    v.read_file(handle+'/D.kry.'+str(state)+'.vector')\n",
    "    v.expectation()\n",
    "    del v"
   ]
  },
  {
   "cell_type": "code",
   "execution_count": 6,
   "id": "healthy-debate",
   "metadata": {},
   "outputs": [],
   "source": [
    "inspectState('12',1)"
   ]
  },
  {
   "cell_type": "code",
   "execution_count": null,
   "id": "independent-stevens",
   "metadata": {},
   "outputs": [],
   "source": []
  }
 ],
 "metadata": {
  "kernelspec": {
   "display_name": "Python 3",
   "language": "python",
   "name": "python3"
  },
  "language_info": {
   "codemirror_mode": {
    "name": "ipython",
    "version": 3
   },
   "file_extension": ".py",
   "mimetype": "text/x-python",
   "name": "python",
   "nbconvert_exporter": "python",
   "pygments_lexer": "ipython3",
   "version": "3.8.5"
  }
 },
 "nbformat": 4,
 "nbformat_minor": 5
}
